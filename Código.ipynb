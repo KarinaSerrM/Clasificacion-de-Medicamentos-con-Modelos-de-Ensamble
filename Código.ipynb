{
 "cells": [
  {
   "cell_type": "code",
   "execution_count": 1,
   "id": "71346b9d-9580-49ad-8257-894aa85d787f",
   "metadata": {
    "execution": {
     "iopub.execute_input": "2025-04-02T00:29:19.012470Z",
     "iopub.status.busy": "2025-04-02T00:29:19.012024Z",
     "iopub.status.idle": "2025-04-02T00:29:23.732588Z",
     "shell.execute_reply": "2025-04-02T00:29:23.732041Z",
     "shell.execute_reply.started": "2025-04-02T00:29:19.012446Z"
    }
   },
   "outputs": [],
   "source": [
    "# Importamos las bibliotecas que ocuparemos, en caso de faltarnos alguna la agregarpé cuando se necesite\n",
    "import pandas as pd\n",
    "import numpy as np\n",
    "from sklearn.tree import DecisionTreeClassifier\n",
    "from sklearn.model_selection import train_test_split\n",
    "from sklearn.preprocessing import LabelEncoder\n",
    "from sklearn.ensemble import BaggingClassifier, RandomForestClassifier, GradientBoostingClassifier, AdaBoostClassifier #Englobo aqui todas las de ensamble\n",
    "from sklearn.tree import DecisionTreeClassifier\n",
    "from sklearn import metrics\n",
    "from sklearn.metrics import classification_report, accuracy_score, confusion_matrix\n",
    "import seaborn as sns\n",
    "import matplotlib.pyplot as plt\n",
    "import warnings \n",
    "warnings.filterwarnings(\"ignore\")"
   ]
  },
  {
   "cell_type": "code",
   "execution_count": 110,
   "id": "fcf43e71-d573-48df-a06c-4aaec8883fca",
   "metadata": {
    "execution": {
     "iopub.execute_input": "2025-04-02T02:40:46.222721Z",
     "iopub.status.busy": "2025-04-02T02:40:46.222403Z",
     "iopub.status.idle": "2025-04-02T02:40:46.234436Z",
     "shell.execute_reply": "2025-04-02T02:40:46.233837Z",
     "shell.execute_reply.started": "2025-04-02T02:40:46.222699Z"
    }
   },
   "outputs": [
    {
     "data": {
      "text/html": [
       "<div>\n",
       "<style scoped>\n",
       "    .dataframe tbody tr th:only-of-type {\n",
       "        vertical-align: middle;\n",
       "    }\n",
       "\n",
       "    .dataframe tbody tr th {\n",
       "        vertical-align: top;\n",
       "    }\n",
       "\n",
       "    .dataframe thead th {\n",
       "        text-align: right;\n",
       "    }\n",
       "</style>\n",
       "<table border=\"1\" class=\"dataframe\">\n",
       "  <thead>\n",
       "    <tr style=\"text-align: right;\">\n",
       "      <th></th>\n",
       "      <th>Age</th>\n",
       "      <th>Sex</th>\n",
       "      <th>BP</th>\n",
       "      <th>Cholesterol</th>\n",
       "      <th>Na_to_K</th>\n",
       "      <th>Drug</th>\n",
       "    </tr>\n",
       "  </thead>\n",
       "  <tbody>\n",
       "    <tr>\n",
       "      <th>0</th>\n",
       "      <td>23</td>\n",
       "      <td>F</td>\n",
       "      <td>HIGH</td>\n",
       "      <td>HIGH</td>\n",
       "      <td>25.355</td>\n",
       "      <td>drugY</td>\n",
       "    </tr>\n",
       "    <tr>\n",
       "      <th>1</th>\n",
       "      <td>47</td>\n",
       "      <td>M</td>\n",
       "      <td>LOW</td>\n",
       "      <td>HIGH</td>\n",
       "      <td>13.093</td>\n",
       "      <td>drugC</td>\n",
       "    </tr>\n",
       "    <tr>\n",
       "      <th>2</th>\n",
       "      <td>47</td>\n",
       "      <td>M</td>\n",
       "      <td>LOW</td>\n",
       "      <td>HIGH</td>\n",
       "      <td>10.114</td>\n",
       "      <td>drugC</td>\n",
       "    </tr>\n",
       "    <tr>\n",
       "      <th>3</th>\n",
       "      <td>28</td>\n",
       "      <td>F</td>\n",
       "      <td>NORMAL</td>\n",
       "      <td>HIGH</td>\n",
       "      <td>7.798</td>\n",
       "      <td>drugX</td>\n",
       "    </tr>\n",
       "    <tr>\n",
       "      <th>4</th>\n",
       "      <td>61</td>\n",
       "      <td>F</td>\n",
       "      <td>LOW</td>\n",
       "      <td>HIGH</td>\n",
       "      <td>18.043</td>\n",
       "      <td>drugY</td>\n",
       "    </tr>\n",
       "  </tbody>\n",
       "</table>\n",
       "</div>"
      ],
      "text/plain": [
       "   Age Sex      BP Cholesterol  Na_to_K   Drug\n",
       "0   23   F    HIGH        HIGH   25.355  drugY\n",
       "1   47   M     LOW        HIGH   13.093  drugC\n",
       "2   47   M     LOW        HIGH   10.114  drugC\n",
       "3   28   F  NORMAL        HIGH    7.798  drugX\n",
       "4   61   F     LOW        HIGH   18.043  drugY"
      ]
     },
     "execution_count": 110,
     "metadata": {},
     "output_type": "execute_result"
    }
   ],
   "source": [
    "# Cargamos nuestra base de datos y le pedimos que nos muestre los encabezados\n",
    "data = pd.read_csv('drugs.csv')\n",
    "data.head()"
   ]
  },
  {
   "cell_type": "code",
   "execution_count": 111,
   "id": "3a80ceca-7366-421c-ba5f-74893be0daf4",
   "metadata": {
    "execution": {
     "iopub.execute_input": "2025-04-02T02:40:54.768924Z",
     "iopub.status.busy": "2025-04-02T02:40:54.767996Z",
     "iopub.status.idle": "2025-04-02T02:40:54.782455Z",
     "shell.execute_reply": "2025-04-02T02:40:54.781479Z",
     "shell.execute_reply.started": "2025-04-02T02:40:54.768890Z"
    }
   },
   "outputs": [
    {
     "name": "stdout",
     "output_type": "stream",
     "text": [
      "Información del dataset:\n",
      "<class 'pandas.core.frame.DataFrame'>\n",
      "RangeIndex: 200 entries, 0 to 199\n",
      "Data columns (total 6 columns):\n",
      " #   Column       Non-Null Count  Dtype  \n",
      "---  ------       --------------  -----  \n",
      " 0   Age          200 non-null    int64  \n",
      " 1   Sex          200 non-null    object \n",
      " 2   BP           200 non-null    object \n",
      " 3   Cholesterol  200 non-null    object \n",
      " 4   Na_to_K      200 non-null    float64\n",
      " 5   Drug         200 non-null    object \n",
      "dtypes: float64(1), int64(1), object(4)\n",
      "memory usage: 9.5+ KB\n",
      "None\n",
      "\n",
      "Distribución de las clases (Drug):\n",
      "Drug\n",
      "drugY    91\n",
      "drugX    54\n",
      "drugA    23\n",
      "drugC    16\n",
      "drugB    16\n",
      "Name: count, dtype: int64\n"
     ]
    }
   ],
   "source": [
    "# Opcional hice un análisis exploratorio para ver los datos que contiene mi base de datos, aunque ya he trabajado con esta base de datos anteriormente, la añade como una buena practica que hemos visto en modulos anteriores\n",
    "print(\"Información del dataset:\")\n",
    "print(data.info())\n",
    "print(\"\\nDistribución de las clases (Drug):\")\n",
    "print(data['Drug'].value_counts())"
   ]
  },
  {
   "cell_type": "code",
   "execution_count": 112,
   "id": "bb2f40f3-761d-4c92-8bbd-81261030acdc",
   "metadata": {
    "execution": {
     "iopub.execute_input": "2025-04-02T02:41:00.045466Z",
     "iopub.status.busy": "2025-04-02T02:41:00.045119Z",
     "iopub.status.idle": "2025-04-02T02:41:00.208570Z",
     "shell.execute_reply": "2025-04-02T02:41:00.208050Z",
     "shell.execute_reply.started": "2025-04-02T02:41:00.045443Z"
    }
   },
   "outputs": [
    {
     "data": {
      "image/png": "[encoded data removed]",
      "text/plain": [
       "<Figure size 1000x600 with 1 Axes>"
      ]
     },
     "metadata": {},
     "output_type": "display_data"
    }
   ],
   "source": [
    "# Visualmente aí es como se ve la distribución de nuestros datos\n",
    "plt.figure(figsize=(10, 6))\n",
    "sns.countplot(x='Drug', data=data)\n",
    "plt.title('Distribución de los Medicamentos')\n",
    "plt.show()"
   ]
  },
  {
   "cell_type": "code",
   "execution_count": 113,
   "id": "8de5b73b-d17a-4677-9a91-80b195b7eb6b",
   "metadata": {
    "execution": {
     "iopub.execute_input": "2025-04-02T02:41:40.017301Z",
     "iopub.status.busy": "2025-04-02T02:41:40.016775Z",
     "iopub.status.idle": "2025-04-02T02:41:40.024849Z",
     "shell.execute_reply": "2025-04-02T02:41:40.024173Z",
     "shell.execute_reply.started": "2025-04-02T02:41:40.017236Z"
    }
   },
   "outputs": [],
   "source": [
    "# Ahora si pasamos a lo que nos corresponde y como primer paso hacemos el preprocesamiento de datos\n",
    "# Comenzamos por convertir variables categóricas a numéricas\n",
    "label_encoder = LabelEncoder()\n",
    "# Al igual que en la tarea anterior, las medicamentos los dejaremos como variables cualitativas\n",
    "data['Sex'] = label_encoder.fit_transform(data['Sex'])\n",
    "data['BP'] = label_encoder.fit_transform(data['BP'])\n",
    "data['Cholesterol'] = label_encoder.fit_transform(data['Cholesterol'])"
   ]
  },
  {
   "cell_type": "code",
   "execution_count": 114,
   "id": "79f2b50e-4e39-429c-b124-7221214f8ce3",
   "metadata": {
    "execution": {
     "iopub.execute_input": "2025-04-02T02:41:40.656114Z",
     "iopub.status.busy": "2025-04-02T02:41:40.655557Z",
     "iopub.status.idle": "2025-04-02T02:41:40.661102Z",
     "shell.execute_reply": "2025-04-02T02:41:40.659933Z",
     "shell.execute_reply.started": "2025-04-02T02:41:40.656081Z"
    }
   },
   "outputs": [],
   "source": [
    "# Definimos nuestras variables \n",
    "feature_cols = [\"Age\", \"Sex\", \"BP\", \"Cholesterol\", \"Na_to_K\"]\n",
    "X = data[feature_cols]\n",
    "y = data.Drug"
   ]
  },
  {
   "cell_type": "code",
   "execution_count": 115,
   "id": "fd33230b-6b05-4ee0-9e7e-59330e7782cb",
   "metadata": {
    "execution": {
     "iopub.execute_input": "2025-04-02T02:41:41.368721Z",
     "iopub.status.busy": "2025-04-02T02:41:41.367880Z",
     "iopub.status.idle": "2025-04-02T02:41:41.375648Z",
     "shell.execute_reply": "2025-04-02T02:41:41.374923Z",
     "shell.execute_reply.started": "2025-04-02T02:41:41.368680Z"
    }
   },
   "outputs": [],
   "source": [
    "# Ahora creamos los grupos de entrenamiento y prueba\n",
    "X_train, X_test, y_train, y_test = train_test_split(X, y, test_size = 0.3, random_state=42)"
   ]
  },
  {
   "cell_type": "markdown",
   "id": "72601129-36fc-4634-a028-0065ea178781",
   "metadata": {},
   "source": [
    "## Random Forest "
   ]
  },
  {
   "cell_type": "code",
   "execution_count": 116,
   "id": "91222c0f-e9b8-439c-856d-27e1fc08677a",
   "metadata": {
    "execution": {
     "iopub.execute_input": "2025-04-02T02:41:44.174566Z",
     "iopub.status.busy": "2025-04-02T02:41:44.173935Z",
     "iopub.status.idle": "2025-04-02T02:41:44.373381Z",
     "shell.execute_reply": "2025-04-02T02:41:44.372874Z",
     "shell.execute_reply.started": "2025-04-02T02:41:44.174520Z"
    }
   },
   "outputs": [
    {
     "data": {
      "text/html": [
       "<style>#sk-container-id-11 {color: black;}#sk-container-id-11 pre{padding: 0;}#sk-container-id-11 div.sk-toggleable {background-color: white;}#sk-container-id-11 label.sk-toggleable__label {cursor: pointer;display: block;width: 100%;margin-bottom: 0;padding: 0.3em;box-sizing: border-box;text-align: center;}#sk-container-id-11 label.sk-toggleable__label-arrow:before {content: \"▸\";float: left;margin-right: 0.25em;color: #696969;}#sk-container-id-11 label.sk-toggleable__label-arrow:hover:before {color: black;}#sk-container-id-11 div.sk-estimator:hover label.sk-toggleable__label-arrow:before {color: black;}#sk-container-id-11 div.sk-toggleable__content {max-height: 0;max-width: 0;overflow: hidden;text-align: left;background-color: #f0f8ff;}#sk-container-id-11 div.sk-toggleable__content pre {margin: 0.2em;color: black;border-radius: 0.25em;background-color: #f0f8ff;}#sk-container-id-11 input.sk-toggleable__control:checked~div.sk-toggleable__content {max-height: 200px;max-width: 100%;overflow: auto;}#sk-container-id-11 input.sk-toggleable__control:checked~label.sk-toggleable__label-arrow:before {content: \"▾\";}#sk-container-id-11 div.sk-estimator input.sk-toggleable__control:checked~label.sk-toggleable__label {background-color: #d4ebff;}#sk-container-id-11 div.sk-label input.sk-toggleable__control:checked~label.sk-toggleable__label {background-color: #d4ebff;}#sk-container-id-11 input.sk-hidden--visually {border: 0;clip: rect(1px 1px 1px 1px);clip: rect(1px, 1px, 1px, 1px);height: 1px;margin: -1px;overflow: hidden;padding: 0;position: absolute;width: 1px;}#sk-container-id-11 div.sk-estimator {font-family: monospace;background-color: #f0f8ff;border: 1px dotted black;border-radius: 0.25em;box-sizing: border-box;margin-bottom: 0.5em;}#sk-container-id-11 div.sk-estimator:hover {background-color: #d4ebff;}#sk-container-id-11 div.sk-parallel-item::after {content: \"\";width: 100%;border-bottom: 1px solid gray;flex-grow: 1;}#sk-container-id-11 div.sk-label:hover label.sk-toggleable__label {background-color: #d4ebff;}#sk-container-id-11 div.sk-serial::before {content: \"\";position: absolute;border-left: 1px solid gray;box-sizing: border-box;top: 0;bottom: 0;left: 50%;z-index: 0;}#sk-container-id-11 div.sk-serial {display: flex;flex-direction: column;align-items: center;background-color: white;padding-right: 0.2em;padding-left: 0.2em;position: relative;}#sk-container-id-11 div.sk-item {position: relative;z-index: 1;}#sk-container-id-11 div.sk-parallel {display: flex;align-items: stretch;justify-content: center;background-color: white;position: relative;}#sk-container-id-11 div.sk-item::before, #sk-container-id-11 div.sk-parallel-item::before {content: \"\";position: absolute;border-left: 1px solid gray;box-sizing: border-box;top: 0;bottom: 0;left: 50%;z-index: -1;}#sk-container-id-11 div.sk-parallel-item {display: flex;flex-direction: column;z-index: 1;position: relative;background-color: white;}#sk-container-id-11 div.sk-parallel-item:first-child::after {align-self: flex-end;width: 50%;}#sk-container-id-11 div.sk-parallel-item:last-child::after {align-self: flex-start;width: 50%;}#sk-container-id-11 div.sk-parallel-item:only-child::after {width: 0;}#sk-container-id-11 div.sk-dashed-wrapped {border: 1px dashed gray;margin: 0 0.4em 0.5em 0.4em;box-sizing: border-box;padding-bottom: 0.4em;background-color: white;}#sk-container-id-11 div.sk-label label {font-family: monospace;font-weight: bold;display: inline-block;line-height: 1.2em;}#sk-container-id-11 div.sk-label-container {text-align: center;}#sk-container-id-11 div.sk-container {/* jupyter's `normalize.less` sets `[hidden] { display: none; }` but bootstrap.min.css set `[hidden] { display: none !important; }` so we also need the `!important` here to be able to override the default hidden behavior on the sphinx rendered scikit-learn.org. See: https://github.com/scikit-learn/scikit-learn/issues/21755 */display: inline-block !important;position: relative;}#sk-container-id-11 div.sk-text-repr-fallback {display: none;}</style><div id=\"sk-container-id-11\" class=\"sk-top-container\"><div class=\"sk-text-repr-fallback\"><pre>RandomForestClassifier(random_state=42)</pre><b>In a Jupyter environment, please rerun this cell to show the HTML representation or trust the notebook. <br />On GitHub, the HTML representation is unable to render, please try loading this page with nbviewer.org.</b></div><div class=\"sk-container\" hidden><div class=\"sk-item\"><div class=\"sk-estimator sk-toggleable\"><input class=\"sk-toggleable__control sk-hidden--visually\" id=\"sk-estimator-id-15\" type=\"checkbox\" checked><label for=\"sk-estimator-id-15\" class=\"sk-toggleable__label sk-toggleable__label-arrow\">RandomForestClassifier</label><div class=\"sk-toggleable__content\"><pre>RandomForestClassifier(random_state=42)</pre></div></div></div></div></div>"
      ],
      "text/plain": [
       "RandomForestClassifier(random_state=42)"
      ]
     },
     "execution_count": 116,
     "metadata": {},
     "output_type": "execute_result"
    }
   ],
   "source": [
    "# A partir de aqui llamamos al Random Forest \n",
    "rf = RandomForestClassifier(n_estimators=100, random_state = 42)\n",
    "rf.fit(X_train, y_train) # Aquí creo el modelo"
   ]
  },
  {
   "cell_type": "code",
   "execution_count": 117,
   "id": "fd0afb90-a3ca-4db2-a541-8bb36a92ae9c",
   "metadata": {
    "execution": {
     "iopub.execute_input": "2025-04-02T02:41:48.689081Z",
     "iopub.status.busy": "2025-04-02T02:41:48.688749Z",
     "iopub.status.idle": "2025-04-02T02:41:48.722852Z",
     "shell.execute_reply": "2025-04-02T02:41:48.722061Z",
     "shell.execute_reply.started": "2025-04-02T02:41:48.689052Z"
    }
   },
   "outputs": [
    {
     "data": {
      "text/plain": [
       "1.0"
      ]
     },
     "execution_count": 117,
     "metadata": {},
     "output_type": "execute_result"
    }
   ],
   "source": [
    "# Score F1 para el grupo de entrenamiento (training)\n",
    "rf.score(X_train, y_train)"
   ]
  },
  {
   "cell_type": "code",
   "execution_count": 118,
   "id": "f78edf60-48b4-4786-861a-037e567af7b0",
   "metadata": {
    "execution": {
     "iopub.execute_input": "2025-04-02T02:41:49.426960Z",
     "iopub.status.busy": "2025-04-02T02:41:49.426522Z",
     "iopub.status.idle": "2025-04-02T02:41:49.455480Z",
     "shell.execute_reply": "2025-04-02T02:41:49.454908Z",
     "shell.execute_reply.started": "2025-04-02T02:41:49.426922Z"
    }
   },
   "outputs": [
    {
     "data": {
      "text/plain": [
       "1.0"
      ]
     },
     "execution_count": 118,
     "metadata": {},
     "output_type": "execute_result"
    }
   ],
   "source": [
    "# Score F1 para el grupo de prueba (testing)\n",
    "rf.score(X_test, y_test)"
   ]
  },
  {
   "cell_type": "markdown",
   "id": "ba3c0a9b-cd76-42cf-a420-21e17b99382c",
   "metadata": {
    "execution": {
     "iopub.execute_input": "2025-04-02T00:32:39.224985Z",
     "iopub.status.busy": "2025-04-02T00:32:39.224643Z",
     "iopub.status.idle": "2025-04-02T00:32:39.228070Z",
     "shell.execute_reply": "2025-04-02T00:32:39.227410Z",
     "shell.execute_reply.started": "2025-04-02T00:32:39.224963Z"
    }
   },
   "source": [
    "Como vemos es un resultyado perfecto y lo comprobamos con la estadistica de desempeño General"
   ]
  },
  {
   "cell_type": "code",
   "execution_count": 119,
   "id": "6e27d3a5-562b-4348-96fa-dbcfa777a72c",
   "metadata": {
    "execution": {
     "iopub.execute_input": "2025-04-02T02:42:06.329132Z",
     "iopub.status.busy": "2025-04-02T02:42:06.328148Z",
     "iopub.status.idle": "2025-04-02T02:42:06.369426Z",
     "shell.execute_reply": "2025-04-02T02:42:06.367702Z",
     "shell.execute_reply.started": "2025-04-02T02:42:06.329093Z"
    }
   },
   "outputs": [
    {
     "name": "stdout",
     "output_type": "stream",
     "text": [
      "              precision    recall  f1-score   support\n",
      "\n",
      "       drugA       1.00      1.00      1.00         7\n",
      "       drugB       1.00      1.00      1.00         3\n",
      "       drugC       1.00      1.00      1.00         6\n",
      "       drugX       1.00      1.00      1.00        18\n",
      "       drugY       1.00      1.00      1.00        26\n",
      "\n",
      "    accuracy                           1.00        60\n",
      "   macro avg       1.00      1.00      1.00        60\n",
      "weighted avg       1.00      1.00      1.00        60\n",
      "\n"
     ]
    }
   ],
   "source": [
    "# Estadística de desempeño Gerneral\n",
    "y_pred_rf = rf.predict (X_test) #Entrenamiento del modelo\n",
    "print(classification_report(y_test, y_pred_rf))"
   ]
  },
  {
   "cell_type": "code",
   "execution_count": 120,
   "id": "405056dd-ab84-4a50-b185-e6182ce2541b",
   "metadata": {
    "execution": {
     "iopub.execute_input": "2025-04-02T02:42:21.866877Z",
     "iopub.status.busy": "2025-04-02T02:42:21.866553Z",
     "iopub.status.idle": "2025-04-02T02:42:21.870787Z",
     "shell.execute_reply": "2025-04-02T02:42:21.870043Z",
     "shell.execute_reply.started": "2025-04-02T02:42:21.866856Z"
    }
   },
   "outputs": [],
   "source": [
    "# Planteamos nuestros datos para la gráfica\n",
    "\n",
    "def plot_feature_importance(data, model):\n",
    "    n_features = feature_cols #Definimos las caracteristicas\n",
    "    plt.barh(n_features, model.feature_importances_, align=\"center\") #definimos el tipo de gráfico y las importancias del modelo\n",
    "    plt.xlabel(\"Importancia de las variables\") #Colocamos las etiquetas para los ejes\n",
    "    plt.ylabel(\"Características\")\n",
    "    plt.show()"
   ]
  },
  {
   "cell_type": "code",
   "execution_count": 121,
   "id": "79d26749-41d3-4bc0-841c-137b16b283ab",
   "metadata": {
    "execution": {
     "iopub.execute_input": "2025-04-02T02:42:23.785259Z",
     "iopub.status.busy": "2025-04-02T02:42:23.784569Z",
     "iopub.status.idle": "2025-04-02T02:42:23.994054Z",
     "shell.execute_reply": "2025-04-02T02:42:23.993337Z",
     "shell.execute_reply.started": "2025-04-02T02:42:23.785224Z"
    }
   },
   "outputs": [
    {
     "data": {
      "image/png": "[encoded data removed]",
      "text/plain": [
       "<Figure size 640x480 with 1 Axes>"
      ]
     },
     "metadata": {},
     "output_type": "display_data"
    }
   ],
   "source": [
    "plot_feature_importance(data, rf) #La funcion esta definida arriba y esta es para que la muestre\n",
    "# cada variable da un peso para predecir los resultados"
   ]
  },
  {
   "cell_type": "markdown",
   "id": "abaa27e5-2c86-4201-aebd-028e936f46ef",
   "metadata": {
    "execution": {
     "iopub.execute_input": "2025-04-02T01:03:35.333058Z",
     "iopub.status.busy": "2025-04-02T01:03:35.332469Z",
     "iopub.status.idle": "2025-04-02T01:03:35.335998Z",
     "shell.execute_reply": "2025-04-02T01:03:35.335344Z",
     "shell.execute_reply.started": "2025-04-02T01:03:35.333030Z"
    }
   },
   "source": [
    "Podemos ver que la variable Na_to_K tiene mucho peso para tener esta predicción"
   ]
  },
  {
   "cell_type": "markdown",
   "id": "ef85bedc-d04e-4ddf-b58a-69ac8b613703",
   "metadata": {},
   "source": [
    "## Gradient Boosting"
   ]
  },
  {
   "cell_type": "code",
   "execution_count": 122,
   "id": "0329975f-5b58-4b92-a68e-2cc88ca3a61b",
   "metadata": {
    "execution": {
     "iopub.execute_input": "2025-04-02T02:42:42.048453Z",
     "iopub.status.busy": "2025-04-02T02:42:42.047742Z",
     "iopub.status.idle": "2025-04-02T02:42:42.579644Z",
     "shell.execute_reply": "2025-04-02T02:42:42.578967Z",
     "shell.execute_reply.started": "2025-04-02T02:42:42.048421Z"
    }
   },
   "outputs": [
    {
     "data": {
      "text/html": [
       "<style>#sk-container-id-12 {color: black;}#sk-container-id-12 pre{padding: 0;}#sk-container-id-12 div.sk-toggleable {background-color: white;}#sk-container-id-12 label.sk-toggleable__label {cursor: pointer;display: block;width: 100%;margin-bottom: 0;padding: 0.3em;box-sizing: border-box;text-align: center;}#sk-container-id-12 label.sk-toggleable__label-arrow:before {content: \"▸\";float: left;margin-right: 0.25em;color: #696969;}#sk-container-id-12 label.sk-toggleable__label-arrow:hover:before {color: black;}#sk-container-id-12 div.sk-estimator:hover label.sk-toggleable__label-arrow:before {color: black;}#sk-container-id-12 div.sk-toggleable__content {max-height: 0;max-width: 0;overflow: hidden;text-align: left;background-color: #f0f8ff;}#sk-container-id-12 div.sk-toggleable__content pre {margin: 0.2em;color: black;border-radius: 0.25em;background-color: #f0f8ff;}#sk-container-id-12 input.sk-toggleable__control:checked~div.sk-toggleable__content {max-height: 200px;max-width: 100%;overflow: auto;}#sk-container-id-12 input.sk-toggleable__control:checked~label.sk-toggleable__label-arrow:before {content: \"▾\";}#sk-container-id-12 div.sk-estimator input.sk-toggleable__control:checked~label.sk-toggleable__label {background-color: #d4ebff;}#sk-container-id-12 div.sk-label input.sk-toggleable__control:checked~label.sk-toggleable__label {background-color: #d4ebff;}#sk-container-id-12 input.sk-hidden--visually {border: 0;clip: rect(1px 1px 1px 1px);clip: rect(1px, 1px, 1px, 1px);height: 1px;margin: -1px;overflow: hidden;padding: 0;position: absolute;width: 1px;}#sk-container-id-12 div.sk-estimator {font-family: monospace;background-color: #f0f8ff;border: 1px dotted black;border-radius: 0.25em;box-sizing: border-box;margin-bottom: 0.5em;}#sk-container-id-12 div.sk-estimator:hover {background-color: #d4ebff;}#sk-container-id-12 div.sk-parallel-item::after {content: \"\";width: 100%;border-bottom: 1px solid gray;flex-grow: 1;}#sk-container-id-12 div.sk-label:hover label.sk-toggleable__label {background-color: #d4ebff;}#sk-container-id-12 div.sk-serial::before {content: \"\";position: absolute;border-left: 1px solid gray;box-sizing: border-box;top: 0;bottom: 0;left: 50%;z-index: 0;}#sk-container-id-12 div.sk-serial {display: flex;flex-direction: column;align-items: center;background-color: white;padding-right: 0.2em;padding-left: 0.2em;position: relative;}#sk-container-id-12 div.sk-item {position: relative;z-index: 1;}#sk-container-id-12 div.sk-parallel {display: flex;align-items: stretch;justify-content: center;background-color: white;position: relative;}#sk-container-id-12 div.sk-item::before, #sk-container-id-12 div.sk-parallel-item::before {content: \"\";position: absolute;border-left: 1px solid gray;box-sizing: border-box;top: 0;bottom: 0;left: 50%;z-index: -1;}#sk-container-id-12 div.sk-parallel-item {display: flex;flex-direction: column;z-index: 1;position: relative;background-color: white;}#sk-container-id-12 div.sk-parallel-item:first-child::after {align-self: flex-end;width: 50%;}#sk-container-id-12 div.sk-parallel-item:last-child::after {align-self: flex-start;width: 50%;}#sk-container-id-12 div.sk-parallel-item:only-child::after {width: 0;}#sk-container-id-12 div.sk-dashed-wrapped {border: 1px dashed gray;margin: 0 0.4em 0.5em 0.4em;box-sizing: border-box;padding-bottom: 0.4em;background-color: white;}#sk-container-id-12 div.sk-label label {font-family: monospace;font-weight: bold;display: inline-block;line-height: 1.2em;}#sk-container-id-12 div.sk-label-container {text-align: center;}#sk-container-id-12 div.sk-container {/* jupyter's `normalize.less` sets `[hidden] { display: none; }` but bootstrap.min.css set `[hidden] { display: none !important; }` so we also need the `!important` here to be able to override the default hidden behavior on the sphinx rendered scikit-learn.org. See: https://github.com/scikit-learn/scikit-learn/issues/21755 */display: inline-block !important;position: relative;}#sk-container-id-12 div.sk-text-repr-fallback {display: none;}</style><div id=\"sk-container-id-12\" class=\"sk-top-container\"><div class=\"sk-text-repr-fallback\"><pre>GradientBoostingClassifier(random_state=42)</pre><b>In a Jupyter environment, please rerun this cell to show the HTML representation or trust the notebook. <br />On GitHub, the HTML representation is unable to render, please try loading this page with nbviewer.org.</b></div><div class=\"sk-container\" hidden><div class=\"sk-item\"><div class=\"sk-estimator sk-toggleable\"><input class=\"sk-toggleable__control sk-hidden--visually\" id=\"sk-estimator-id-16\" type=\"checkbox\" checked><label for=\"sk-estimator-id-16\" class=\"sk-toggleable__label sk-toggleable__label-arrow\">GradientBoostingClassifier</label><div class=\"sk-toggleable__content\"><pre>GradientBoostingClassifier(random_state=42)</pre></div></div></div></div></div>"
      ],
      "text/plain": [
       "GradientBoostingClassifier(random_state=42)"
      ]
     },
     "execution_count": 122,
     "metadata": {},
     "output_type": "execute_result"
    }
   ],
   "source": [
    "# Creamos el siguiente modelo Geibent Boosting Classifier\n",
    "gbt = GradientBoostingClassifier(n_estimators=100, random_state=42) # 100 árboles de profundidad de 3 (Default)\n",
    "gbt.fit(X_train, y_train)"
   ]
  },
  {
   "cell_type": "code",
   "execution_count": 123,
   "id": "f2c75afe-ad5b-477c-94b2-0260671b6654",
   "metadata": {
    "execution": {
     "iopub.execute_input": "2025-04-02T02:42:51.368553Z",
     "iopub.status.busy": "2025-04-02T02:42:51.368245Z",
     "iopub.status.idle": "2025-04-02T02:42:51.377758Z",
     "shell.execute_reply": "2025-04-02T02:42:51.377127Z",
     "shell.execute_reply.started": "2025-04-02T02:42:51.368529Z"
    }
   },
   "outputs": [
    {
     "data": {
      "text/plain": [
       "1.0"
      ]
     },
     "execution_count": 123,
     "metadata": {},
     "output_type": "execute_result"
    }
   ],
   "source": [
    "# Score F1 para el grupo de entrenamiento (training)\n",
    "gbt.score(X_train, y_train)"
   ]
  },
  {
   "cell_type": "code",
   "execution_count": 124,
   "id": "2ae9efaf-c36a-40b8-89c4-81d04e1c5df9",
   "metadata": {
    "execution": {
     "iopub.execute_input": "2025-04-02T02:44:09.416198Z",
     "iopub.status.busy": "2025-04-02T02:44:09.415875Z",
     "iopub.status.idle": "2025-04-02T02:44:09.425428Z",
     "shell.execute_reply": "2025-04-02T02:44:09.424717Z",
     "shell.execute_reply.started": "2025-04-02T02:44:09.416177Z"
    }
   },
   "outputs": [
    {
     "data": {
      "text/plain": [
       "1.0"
      ]
     },
     "execution_count": 124,
     "metadata": {},
     "output_type": "execute_result"
    }
   ],
   "source": [
    "# Score F1 para el grupo de prueba (testing)\n",
    "gbt.score(X_test, y_test)"
   ]
  },
  {
   "cell_type": "code",
   "execution_count": 126,
   "id": "0d1197f7-173f-40a4-8e1f-61c09ba2a222",
   "metadata": {
    "execution": {
     "iopub.execute_input": "2025-04-02T02:44:22.755672Z",
     "iopub.status.busy": "2025-04-02T02:44:22.755350Z",
     "iopub.status.idle": "2025-04-02T02:44:22.769531Z",
     "shell.execute_reply": "2025-04-02T02:44:22.768867Z",
     "shell.execute_reply.started": "2025-04-02T02:44:22.755651Z"
    }
   },
   "outputs": [
    {
     "name": "stdout",
     "output_type": "stream",
     "text": [
      "              precision    recall  f1-score   support\n",
      "\n",
      "       drugA       1.00      1.00      1.00         7\n",
      "       drugB       1.00      1.00      1.00         3\n",
      "       drugC       1.00      1.00      1.00         6\n",
      "       drugX       1.00      1.00      1.00        18\n",
      "       drugY       1.00      1.00      1.00        26\n",
      "\n",
      "    accuracy                           1.00        60\n",
      "   macro avg       1.00      1.00      1.00        60\n",
      "weighted avg       1.00      1.00      1.00        60\n",
      "\n"
     ]
    }
   ],
   "source": [
    "# Estadística de desempeño Gerneral\n",
    "y_pred_gbt = gbt.predict (X_test) #Entrenamiento del modelo\n",
    "print(classification_report(y_test, y_pred_gbt))"
   ]
  },
  {
   "cell_type": "markdown",
   "id": "1394f7ff-78ea-4d5e-9393-ac2543beb2b6",
   "metadata": {
    "execution": {
     "iopub.execute_input": "2025-04-02T01:06:03.218906Z",
     "iopub.status.busy": "2025-04-02T01:06:03.218595Z",
     "iopub.status.idle": "2025-04-02T01:06:03.221999Z",
     "shell.execute_reply": "2025-04-02T01:06:03.221332Z",
     "shell.execute_reply.started": "2025-04-02T01:06:03.218881Z"
    }
   },
   "source": [
    "Desde que obtuvimos el grupo de prueba nos dimos cuenta que este modelo tambien nos da un resultado perfecto y tambien lo vemos a detalle con las estadísticas de desempeño"
   ]
  },
  {
   "cell_type": "code",
   "execution_count": 127,
   "id": "0854b16b-1f39-4208-9d75-92f5a0d548b5",
   "metadata": {
    "execution": {
     "iopub.execute_input": "2025-04-02T02:44:40.069986Z",
     "iopub.status.busy": "2025-04-02T02:44:40.069668Z",
     "iopub.status.idle": "2025-04-02T02:44:40.073600Z",
     "shell.execute_reply": "2025-04-02T02:44:40.072901Z",
     "shell.execute_reply.started": "2025-04-02T02:44:40.069966Z"
    }
   },
   "outputs": [],
   "source": [
    "# Planteamos nuestros datos para la gráfica\n",
    "def plot_feature_importance(data, model):\n",
    "    n_features = feature_cols #Definimos las caracteristicas\n",
    "    plt.barh(n_features, model.feature_importances_, align=\"center\") #definimos el tipo de gráfico y las importancias del modelo\n",
    "    plt.xlabel(\"Importancia de las variables\") #Colocamos las etiquetas para los ejes\n",
    "    plt.ylabel(\"Características\")\n",
    "    plt.show()"
   ]
  },
  {
   "cell_type": "code",
   "execution_count": 128,
   "id": "89c82ee8-d1f3-4ded-866a-1399a817cc00",
   "metadata": {
    "execution": {
     "iopub.execute_input": "2025-04-02T02:44:41.010868Z",
     "iopub.status.busy": "2025-04-02T02:44:41.010499Z",
     "iopub.status.idle": "2025-04-02T02:44:41.190943Z",
     "shell.execute_reply": "2025-04-02T02:44:41.190313Z",
     "shell.execute_reply.started": "2025-04-02T02:44:41.010836Z"
    }
   },
   "outputs": [
    {
     "data": {
      "image/png": "[encoded data removed]",
      "text/plain": [
       "<Figure size 640x480 with 1 Axes>"
      ]
     },
     "metadata": {},
     "output_type": "display_data"
    }
   ],
   "source": [
    "plot_feature_importance(data, gbt) #La funcion esta definida arriba y esta es para que la muestre\n",
    "# cada variable da un peso para predecir los resultados"
   ]
  },
  {
   "cell_type": "markdown",
   "id": "6f511b0c-88b6-4272-85ed-d14c8b814c92",
   "metadata": {},
   "source": [
    "A pesar de que la grafica tambien nos da un 100% de confiabilidad podemos observar que a diferencia del modelo anterior, en este modelo el sexo del paciente no es importante "
   ]
  },
  {
   "cell_type": "markdown",
   "id": "77f8de47-fc05-4ed7-b853-a106c260b816",
   "metadata": {},
   "source": [
    "## AdaBoost Classifier"
   ]
  },
  {
   "cell_type": "code",
   "execution_count": 129,
   "id": "8a534bce-78e7-44b3-9ac3-1d3d7483312a",
   "metadata": {
    "execution": {
     "iopub.execute_input": "2025-04-02T02:45:12.354562Z",
     "iopub.status.busy": "2025-04-02T02:45:12.353253Z",
     "iopub.status.idle": "2025-04-02T02:45:12.466280Z",
     "shell.execute_reply": "2025-04-02T02:45:12.465539Z",
     "shell.execute_reply.started": "2025-04-02T02:45:12.354532Z"
    }
   },
   "outputs": [],
   "source": [
    "# AdaBoost usa árboles de decisión como clasificador por Default\n",
    "abc = AdaBoostClassifier(n_estimators=50, learning_rate=1) #Creamos nuestro objeto de clasificación\n",
    "model = abc.fit(X_train, y_train)"
   ]
  },
  {
   "cell_type": "code",
   "execution_count": 130,
   "id": "3daae50a-9742-485e-ae39-c575099af037",
   "metadata": {
    "execution": {
     "iopub.execute_input": "2025-04-02T02:45:12.767816Z",
     "iopub.status.busy": "2025-04-02T02:45:12.767040Z",
     "iopub.status.idle": "2025-04-02T02:45:12.794369Z",
     "shell.execute_reply": "2025-04-02T02:45:12.793763Z",
     "shell.execute_reply.started": "2025-04-02T02:45:12.767785Z"
    }
   },
   "outputs": [
    {
     "name": "stdout",
     "output_type": "stream",
     "text": [
      "              precision    recall  f1-score   support\n",
      "\n",
      "       drugA       0.70      1.00      0.82         7\n",
      "       drugB       0.00      0.00      0.00         3\n",
      "       drugC       0.00      0.00      0.00         6\n",
      "       drugX       0.75      1.00      0.86        18\n",
      "       drugY       1.00      1.00      1.00        26\n",
      "\n",
      "    accuracy                           0.85        60\n",
      "   macro avg       0.49      0.60      0.54        60\n",
      "weighted avg       0.74      0.85      0.79        60\n",
      "\n"
     ]
    }
   ],
   "source": [
    "# Estadística de desempeño Gerneral\n",
    "y_pred_abc = model.predict (X_test) #Entrenamiento del modelo\n",
    "print(classification_report(y_test, y_pred_abc))"
   ]
  },
  {
   "cell_type": "markdown",
   "id": "20524ab4-e8e2-4db1-8d4d-ab008cc6fb62",
   "metadata": {},
   "source": [
    "En este caso nuestro modelo bajo, pues solo acierta en el 85% de los casos, lo que es bueno, pero no como mis otros dos modelos; y por lo que vemos en el macro AVG tenemos una precisión del 49, pero un recall de 60, lo que indica que el rendimiento no es equilibrado entre clase; y el otro indicador de Weighted Avg que pondera las métricas según la cantidad de datos en cada clase refleja un rendimiento más realista, y solo para el suministro del medicamento Y podemos tener la confianza al 100% de suministrar este medicamento"
   ]
  },
  {
   "cell_type": "code",
   "execution_count": 131,
   "id": "0a8dec09-6830-424d-aa82-f6dfa23cdb74",
   "metadata": {
    "execution": {
     "iopub.execute_input": "2025-04-02T02:45:13.887678Z",
     "iopub.status.busy": "2025-04-02T02:45:13.887352Z",
     "iopub.status.idle": "2025-04-02T02:45:13.891278Z",
     "shell.execute_reply": "2025-04-02T02:45:13.890647Z",
     "shell.execute_reply.started": "2025-04-02T02:45:13.887656Z"
    }
   },
   "outputs": [],
   "source": [
    "# Planteamos nuestros datos para la gráfica\n",
    "def plot_feature_importance(data, model):\n",
    "    n_features = feature_cols #Definimos las caracteristicas\n",
    "    plt.barh(n_features, model.feature_importances_, align=\"center\") #definimos el tipo de gráfico y las importancias del modelo\n",
    "    plt.xlabel(\"Importancia de las variables\") #Colocamos las etiquetas para los ejes\n",
    "    plt.ylabel(\"Características\")\n",
    "    plt.show()"
   ]
  },
  {
   "cell_type": "code",
   "execution_count": 132,
   "id": "76f10bce-8204-4bb4-84ad-51b7a88087f7",
   "metadata": {
    "execution": {
     "iopub.execute_input": "2025-04-02T02:45:14.952623Z",
     "iopub.status.busy": "2025-04-02T02:45:14.952307Z",
     "iopub.status.idle": "2025-04-02T02:45:15.106413Z",
     "shell.execute_reply": "2025-04-02T02:45:15.105912Z",
     "shell.execute_reply.started": "2025-04-02T02:45:14.952602Z"
    }
   },
   "outputs": [
    {
     "data": {
      "image/png": "[encoded data removed]",
      "text/plain": [
       "<Figure size 640x480 with 1 Axes>"
      ]
     },
     "metadata": {},
     "output_type": "display_data"
    }
   ],
   "source": [
    "plot_feature_importance(data, abc) #La funcion esta definida arriba y esta es para que la muestre\n",
    "# cada variable da un peso para predecir los resultados"
   ]
  },
  {
   "cell_type": "markdown",
   "id": "b20b703c-a7af-46d9-96cf-03d615632601",
   "metadata": {},
   "source": [
    "Al imprimir la grafica para ver la pondetación que se les da a las caracteriscicas vemos que solo estamos tomando en cuenta Na to K y BP, quiza por eso es que no tenemos tanta confiabilidad"
   ]
  },
  {
   "cell_type": "markdown",
   "id": "5f3824f8-de6b-4314-9583-ccbc86158bc8",
   "metadata": {},
   "source": [
    "## Bagging Classifier\n",
    "Este tipo de clasificación se mencionó en la clase, pero no fue desarrollada en la practica, de cualquier forma se anexa en esta practica"
   ]
  },
  {
   "cell_type": "code",
   "execution_count": 141,
   "id": "6c1d10ba-2f34-4829-b6e2-f9731ec1a1ec",
   "metadata": {
    "execution": {
     "iopub.execute_input": "2025-04-02T03:02:52.285662Z",
     "iopub.status.busy": "2025-04-02T03:02:52.285324Z",
     "iopub.status.idle": "2025-04-02T03:02:52.385596Z",
     "shell.execute_reply": "2025-04-02T03:02:52.384619Z",
     "shell.execute_reply.started": "2025-04-02T03:02:52.285641Z"
    }
   },
   "outputs": [],
   "source": [
    "# Este solo lo creamos como base para después tomar como base el árbol de decisión\n",
    "bagging_model = BaggingClassifier(n_estimators=50, random_state=42)\n",
    "bagging_model.fit(X_train, y_train)\n",
    "y_pred_bagging = bagging_model.predict(X_test)"
   ]
  },
  {
   "cell_type": "code",
   "execution_count": 142,
   "id": "4d77ec0a-e5a3-4a70-bd3e-0f3724b5687b",
   "metadata": {
    "execution": {
     "iopub.execute_input": "2025-04-02T03:02:53.081157Z",
     "iopub.status.busy": "2025-04-02T03:02:53.080828Z",
     "iopub.status.idle": "2025-04-02T03:02:53.093235Z",
     "shell.execute_reply": "2025-04-02T03:02:53.092582Z",
     "shell.execute_reply.started": "2025-04-02T03:02:53.081131Z"
    }
   },
   "outputs": [
    {
     "name": "stdout",
     "output_type": "stream",
     "text": [
      "              precision    recall  f1-score   support\n",
      "\n",
      "       drugA       1.00      1.00      1.00         7\n",
      "       drugB       1.00      1.00      1.00         3\n",
      "       drugC       1.00      1.00      1.00         6\n",
      "       drugX       1.00      1.00      1.00        18\n",
      "       drugY       1.00      1.00      1.00        26\n",
      "\n",
      "    accuracy                           1.00        60\n",
      "   macro avg       1.00      1.00      1.00        60\n",
      "weighted avg       1.00      1.00      1.00        60\n",
      "\n"
     ]
    }
   ],
   "source": [
    "print(classification_report(y_test, y_pred_bagging))"
   ]
  },
  {
   "cell_type": "code",
   "execution_count": 143,
   "id": "9c7eb484-efb1-4fda-9ac6-eb3d9b087cd0",
   "metadata": {
    "execution": {
     "iopub.execute_input": "2025-04-02T03:02:53.730827Z",
     "iopub.status.busy": "2025-04-02T03:02:53.730440Z",
     "iopub.status.idle": "2025-04-02T03:02:53.825217Z",
     "shell.execute_reply": "2025-04-02T03:02:53.824434Z",
     "shell.execute_reply.started": "2025-04-02T03:02:53.730802Z"
    }
   },
   "outputs": [
    {
     "data": {
      "text/html": [
       "<style>#sk-container-id-14 {color: black;}#sk-container-id-14 pre{padding: 0;}#sk-container-id-14 div.sk-toggleable {background-color: white;}#sk-container-id-14 label.sk-toggleable__label {cursor: pointer;display: block;width: 100%;margin-bottom: 0;padding: 0.3em;box-sizing: border-box;text-align: center;}#sk-container-id-14 label.sk-toggleable__label-arrow:before {content: \"▸\";float: left;margin-right: 0.25em;color: #696969;}#sk-container-id-14 label.sk-toggleable__label-arrow:hover:before {color: black;}#sk-container-id-14 div.sk-estimator:hover label.sk-toggleable__label-arrow:before {color: black;}#sk-container-id-14 div.sk-toggleable__content {max-height: 0;max-width: 0;overflow: hidden;text-align: left;background-color: #f0f8ff;}#sk-container-id-14 div.sk-toggleable__content pre {margin: 0.2em;color: black;border-radius: 0.25em;background-color: #f0f8ff;}#sk-container-id-14 input.sk-toggleable__control:checked~div.sk-toggleable__content {max-height: 200px;max-width: 100%;overflow: auto;}#sk-container-id-14 input.sk-toggleable__control:checked~label.sk-toggleable__label-arrow:before {content: \"▾\";}#sk-container-id-14 div.sk-estimator input.sk-toggleable__control:checked~label.sk-toggleable__label {background-color: #d4ebff;}#sk-container-id-14 div.sk-label input.sk-toggleable__control:checked~label.sk-toggleable__label {background-color: #d4ebff;}#sk-container-id-14 input.sk-hidden--visually {border: 0;clip: rect(1px 1px 1px 1px);clip: rect(1px, 1px, 1px, 1px);height: 1px;margin: -1px;overflow: hidden;padding: 0;position: absolute;width: 1px;}#sk-container-id-14 div.sk-estimator {font-family: monospace;background-color: #f0f8ff;border: 1px dotted black;border-radius: 0.25em;box-sizing: border-box;margin-bottom: 0.5em;}#sk-container-id-14 div.sk-estimator:hover {background-color: #d4ebff;}#sk-container-id-14 div.sk-parallel-item::after {content: \"\";width: 100%;border-bottom: 1px solid gray;flex-grow: 1;}#sk-container-id-14 div.sk-label:hover label.sk-toggleable__label {background-color: #d4ebff;}#sk-container-id-14 div.sk-serial::before {content: \"\";position: absolute;border-left: 1px solid gray;box-sizing: border-box;top: 0;bottom: 0;left: 50%;z-index: 0;}#sk-container-id-14 div.sk-serial {display: flex;flex-direction: column;align-items: center;background-color: white;padding-right: 0.2em;padding-left: 0.2em;position: relative;}#sk-container-id-14 div.sk-item {position: relative;z-index: 1;}#sk-container-id-14 div.sk-parallel {display: flex;align-items: stretch;justify-content: center;background-color: white;position: relative;}#sk-container-id-14 div.sk-item::before, #sk-container-id-14 div.sk-parallel-item::before {content: \"\";position: absolute;border-left: 1px solid gray;box-sizing: border-box;top: 0;bottom: 0;left: 50%;z-index: -1;}#sk-container-id-14 div.sk-parallel-item {display: flex;flex-direction: column;z-index: 1;position: relative;background-color: white;}#sk-container-id-14 div.sk-parallel-item:first-child::after {align-self: flex-end;width: 50%;}#sk-container-id-14 div.sk-parallel-item:last-child::after {align-self: flex-start;width: 50%;}#sk-container-id-14 div.sk-parallel-item:only-child::after {width: 0;}#sk-container-id-14 div.sk-dashed-wrapped {border: 1px dashed gray;margin: 0 0.4em 0.5em 0.4em;box-sizing: border-box;padding-bottom: 0.4em;background-color: white;}#sk-container-id-14 div.sk-label label {font-family: monospace;font-weight: bold;display: inline-block;line-height: 1.2em;}#sk-container-id-14 div.sk-label-container {text-align: center;}#sk-container-id-14 div.sk-container {/* jupyter's `normalize.less` sets `[hidden] { display: none; }` but bootstrap.min.css set `[hidden] { display: none !important; }` so we also need the `!important` here to be able to override the default hidden behavior on the sphinx rendered scikit-learn.org. See: https://github.com/scikit-learn/scikit-learn/issues/21755 */display: inline-block !important;position: relative;}#sk-container-id-14 div.sk-text-repr-fallback {display: none;}</style><div id=\"sk-container-id-14\" class=\"sk-top-container\"><div class=\"sk-text-repr-fallback\"><pre>BaggingClassifier(base_estimator=DecisionTreeClassifier(), n_estimators=50,\n",
       "                  random_state=42)</pre><b>In a Jupyter environment, please rerun this cell to show the HTML representation or trust the notebook. <br />On GitHub, the HTML representation is unable to render, please try loading this page with nbviewer.org.</b></div><div class=\"sk-container\" hidden><div class=\"sk-item sk-dashed-wrapped\"><div class=\"sk-label-container\"><div class=\"sk-label sk-toggleable\"><input class=\"sk-toggleable__control sk-hidden--visually\" id=\"sk-estimator-id-20\" type=\"checkbox\" ><label for=\"sk-estimator-id-20\" class=\"sk-toggleable__label sk-toggleable__label-arrow\">BaggingClassifier</label><div class=\"sk-toggleable__content\"><pre>BaggingClassifier(base_estimator=DecisionTreeClassifier(), n_estimators=50,\n",
       "                  random_state=42)</pre></div></div></div><div class=\"sk-parallel\"><div class=\"sk-parallel-item\"><div class=\"sk-item\"><div class=\"sk-label-container\"><div class=\"sk-label sk-toggleable\"><input class=\"sk-toggleable__control sk-hidden--visually\" id=\"sk-estimator-id-21\" type=\"checkbox\" ><label for=\"sk-estimator-id-21\" class=\"sk-toggleable__label sk-toggleable__label-arrow\">base_estimator: DecisionTreeClassifier</label><div class=\"sk-toggleable__content\"><pre>DecisionTreeClassifier()</pre></div></div></div><div class=\"sk-serial\"><div class=\"sk-item\"><div class=\"sk-estimator sk-toggleable\"><input class=\"sk-toggleable__control sk-hidden--visually\" id=\"sk-estimator-id-22\" type=\"checkbox\" ><label for=\"sk-estimator-id-22\" class=\"sk-toggleable__label sk-toggleable__label-arrow\">DecisionTreeClassifier</label><div class=\"sk-toggleable__content\"><pre>DecisionTreeClassifier()</pre></div></div></div></div></div></div></div></div></div></div>"
      ],
      "text/plain": [
       "BaggingClassifier(base_estimator=DecisionTreeClassifier(), n_estimators=50,\n",
       "                  random_state=42)"
      ]
     },
     "execution_count": 143,
     "metadata": {},
     "output_type": "execute_result"
    }
   ],
   "source": [
    "# Creamos el siguiente modelo Geibent Boosting Classifier\n",
    "bag = BaggingClassifier(base_estimator=DecisionTreeClassifier(), n_estimators=50, random_state=42) # Tomo como base el árbol de decisiónm variable que se agrega para esta prueba\n",
    "bag.fit(X_train, y_train)"
   ]
  },
  {
   "cell_type": "code",
   "execution_count": 144,
   "id": "db116ab0-8cae-4d73-aa5b-4e882f59f439",
   "metadata": {
    "execution": {
     "iopub.execute_input": "2025-04-02T03:02:54.401685Z",
     "iopub.status.busy": "2025-04-02T03:02:54.401347Z",
     "iopub.status.idle": "2025-04-02T03:02:54.417885Z",
     "shell.execute_reply": "2025-04-02T03:02:54.417244Z",
     "shell.execute_reply.started": "2025-04-02T03:02:54.401664Z"
    }
   },
   "outputs": [
    {
     "data": {
      "text/plain": [
       "1.0"
      ]
     },
     "execution_count": 144,
     "metadata": {},
     "output_type": "execute_result"
    }
   ],
   "source": [
    "# Score F1 para el grupo de entrenamiento (training)\n",
    "bag.score(X_train, y_train)"
   ]
  },
  {
   "cell_type": "code",
   "execution_count": 145,
   "id": "4a76d16a-8634-4fb7-8425-57e67ff601fb",
   "metadata": {
    "execution": {
     "iopub.execute_input": "2025-04-02T03:03:00.254866Z",
     "iopub.status.busy": "2025-04-02T03:03:00.254537Z",
     "iopub.status.idle": "2025-04-02T03:03:00.274374Z",
     "shell.execute_reply": "2025-04-02T03:03:00.273837Z",
     "shell.execute_reply.started": "2025-04-02T03:03:00.254840Z"
    }
   },
   "outputs": [
    {
     "data": {
      "text/plain": [
       "1.0"
      ]
     },
     "execution_count": 145,
     "metadata": {},
     "output_type": "execute_result"
    }
   ],
   "source": [
    "# Score F1 para el grupo de prueba (testing)\n",
    "bag.score(X_test, y_test)"
   ]
  },
  {
   "cell_type": "code",
   "execution_count": 146,
   "id": "c8bacb51-a436-46d8-bf72-673df18e3183",
   "metadata": {
    "execution": {
     "iopub.execute_input": "2025-04-02T03:03:01.074026Z",
     "iopub.status.busy": "2025-04-02T03:03:01.073323Z",
     "iopub.status.idle": "2025-04-02T03:03:01.106944Z",
     "shell.execute_reply": "2025-04-02T03:03:01.106202Z",
     "shell.execute_reply.started": "2025-04-02T03:03:01.073988Z"
    }
   },
   "outputs": [
    {
     "name": "stdout",
     "output_type": "stream",
     "text": [
      "              precision    recall  f1-score   support\n",
      "\n",
      "       drugA       1.00      1.00      1.00         7\n",
      "       drugB       1.00      1.00      1.00         3\n",
      "       drugC       1.00      1.00      1.00         6\n",
      "       drugX       1.00      1.00      1.00        18\n",
      "       drugY       1.00      1.00      1.00        26\n",
      "\n",
      "    accuracy                           1.00        60\n",
      "   macro avg       1.00      1.00      1.00        60\n",
      "weighted avg       1.00      1.00      1.00        60\n",
      "\n"
     ]
    }
   ],
   "source": [
    "# Estadística de desempeño Gerneral\n",
    "y_pred_bag = bag.predict (X_test) #Entrenamiento del modelo\n",
    "print(classification_report(y_test, y_pred_bag))"
   ]
  },
  {
   "cell_type": "markdown",
   "id": "6df2ce9f-baca-451e-a5ab-6fd84f3fca85",
   "metadata": {},
   "source": [
    "Y cómo podemos ver, tenemos una certeza para poder suministrar cualquier medicamento que predizcamos con este modelo, ya que tambien nos da el 100% de confiabilidad\n",
    "En este ultimo ejercisio integre como base el arbol de decisión y en ambos tenemos un resultado optimo"
   ]
  },
  {
   "cell_type": "markdown",
   "id": "7812fdcd-bd8f-49b3-985b-3ff77c2e2802",
   "metadata": {},
   "source": [
    "# Observaciones generales de comparación\n",
    "Se evaluaron cuatro modelos de ensamble para predecir el medicamento adecuado para pacientes basándonos en características como la edad, sexo, presión arterial, nivel de colesterol y relación sodio-potasio. \n",
    "Los modelos que  analizamos fueron: Random Forest, Gradient Boosting, AdaBoost y Bagging Classif"
   ]
  },
  {
   "cell_type": "markdown",
   "id": "0a582d9f-c37b-4bb7-85fc-5430b0c944ed",
   "metadata": {},
   "source": [
    "* **Random Forest:** Este modelo nos muestra una exactitud perfecta (100%) en entrenamiento y prueba, también un excelente equilibrio entre precisión y recall para todas las clases de medicamentos y la variable más importante fue Na_to_K, seguida de Cholesterol y BP.\n",
    "* **Gradient Boosting:** En este modelo, también logramos obtener un 100% de exactitud en ambos conjuntos, al igual que en Random Forest pero con menor importancia asignada al sexo del paciente y la caracteristica de Na_to_K fue nuevamente la característica más determinante.\n",
    "* **AdaBoost:** Este ,pdelo fue el unico en el que no obtuvimos el 100 %, pués su exactitud es del 85% en el conjunto de prueba, con rendimiento desigual entre clases (macro avg: precisión 49%, recall 60%), y por su parte solo predijo correctamente los medicamentos Y y X, con problemas en las demás clases y otro dato a resaltar es que este modelo se enfocó excesivamente  en Na_to_K y BP, ignorando otras características\n",
    "* **Bagging Classifier:** Al igual que en los primeros dos modelos el rendimiento es perfecto (100%) en todas las métricas, lo hicimos usando como base los árboles de decisión y tambien sin esta baseobteniendo el mismo resultado en ambos \n",
    "\n",
    "**En conclusión**, este análisis demuestra que los métodos de ensamble, particularmente Random Forest, Gradient Boosting y Bagging, son altamente efectivos para la tarea de clasificación de medicamentos basada en características clínicas, superando significativamente al enfoque AdaBoost en este caso específico."
   ]
  },
  {
   "cell_type": "markdown",
   "id": "25ea73d6-e85e-42f3-9f3e-bef7425b527c",
   "metadata": {},
   "source": [
    "## ¿Mejoró su poder predictivo al comparar sus resultados con los obtenidos mediante el árbol de decisión aplicado en la actividad del módulo previo? \n",
    "Con los modelos de los árboles obtuvimos 2 modelos con una confiabilidad general del 90% y dos con el 100% de confiabilidad, en promedio tenemos una confiabilidad de 95% y en estos modelos en tres de ellos tenemos la confiabilidad de la predicción en un 100% pero uno de ellos que es el de AdaBoost tenemos una confiabilidad del 85%, en general nos baja el promedio a 96%, e igual por número de modelos tenemos una confiabilidad en el pronostico del 100% de 3 de 4 de nuestros modelos, así que con base a esa explicación podemos afirmar que mejoró el poder predictivo comparado a la lección anterior de los árboles de decisión."
   ]
  },
  {
   "cell_type": "code",
   "execution_count": null,
   "id": "2d158777-b3e4-43e9-9f31-e96b8f2af2f8",
   "metadata": {},
   "outputs": [],
   "source": []
  }
 ],
 "metadata": {
  "kernelspec": {
   "display_name": "anaconda-panel-2023.05-py310",
   "language": "python",
   "name": "conda-env-anaconda-panel-2023.05-py310-py"
  },
  "language_info": {
   "codemirror_mode": {
    "name": "ipython",
    "version": 3
   },
   "file_extension": ".py",
   "mimetype": "text/x-python",
   "name": "python",
   "nbconvert_exporter": "python",
   "pygments_lexer": "ipython3",
   "version": "3.11.5"
  }
 },
 "nbformat": 4,
 "nbformat_minor": 5
}
